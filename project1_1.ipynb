{
  "nbformat": 4,
  "nbformat_minor": 0,
  "metadata": {
    "colab": {
      "provenance": [],
      "authorship_tag": "ABX9TyPTnUutMixUknG4v3E7oNct",
      "include_colab_link": true
    },
    "kernelspec": {
      "name": "python3",
      "display_name": "Python 3"
    },
    "language_info": {
      "name": "python"
    }
  },
  "cells": [
    {
      "cell_type": "markdown",
      "metadata": {
        "id": "view-in-github",
        "colab_type": "text"
      },
      "source": [
        "<a href=\"https://colab.research.google.com/github/yogitjain3015/Project1/blob/main/project1_1.ipynb\" target=\"_parent\"><img src=\"https://colab.research.google.com/assets/colab-badge.svg\" alt=\"Open In Colab\"/></a>"
      ]
    },
    {
      "cell_type": "code",
      "execution_count": null,
      "metadata": {
        "colab": {
          "base_uri": "https://localhost:8080/"
        },
        "id": "UXnQeDwzS-j3",
        "outputId": "1e599962-24fa-4ca3-c17c-dea2b467e298"
      },
      "outputs": [
        {
          "output_type": "stream",
          "name": "stdout",
          "text": [
            "Input the filenameabc.py\n",
            "the extension of file is:py\n"
          ]
        }
      ],
      "source": [
        "filename=input(\"Input the filename\")\n",
        "f_extns= filename.split(\".\")\n",
        "print(\"the extension of file is:\"+str(f_extns[-1]))"
      ]
    },
    {
      "cell_type": "code",
      "source": [],
      "metadata": {
        "id": "W0Tvu2aDUoXs"
      },
      "execution_count": null,
      "outputs": []
    }
  ]
}